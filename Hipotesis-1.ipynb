{
 "cells": [
  {
   "cell_type": "markdown",
   "metadata": {
    "id": "L5rfZ_hYaQ1Z"
   },
   "source": [
    "<center><img src=\"http://www.exalumnos.usm.cl/wp-content/uploads/2015/06/Isotipo-Negro.gif\" title=\"Title text\" width=\"30%\" /></center>\n",
    "\n",
    "<hr style=\"height:2px;border:none\"/>\n",
    "<h1 align='center'> INF-398 Aprendizaje Automático </h1>\n",
    "\n",
    "<H3 align='center'> Tarea/Taller 2 </H3>\n",
    "<hr style=\"height:2px;border:none\"/>\n",
    "\n"
   ]
  },
  {
   "cell_type": "markdown",
   "metadata": {
    "id": "9KovasDMUMnW"
   },
   "source": [
    "# Temas"
   ]
  },
  {
   "cell_type": "markdown",
   "metadata": {
    "id": "HUgiKCl3UREw"
   },
   "source": [
    "* Regresión Lineal\n",
    "* Regularización\n",
    "* Selección de Características\n",
    "* Reducción de Dimensionalidad\n"
   ]
  },
  {
   "cell_type": "markdown",
   "metadata": {
    "id": "HgDmUARIUw0w"
   },
   "source": [
    "# Parte 1. Pregunta de Investigación"
   ]
  },
  {
   "cell_type": "markdown",
   "metadata": {
    "id": "fTkbRyusPMok"
   },
   "source": [
    "\n",
    "> **2. Regresión Lineal:** Al entrenar un modelo de regresión lineal con pocos ejemplos y muchas características ($d > n$), la varianza de los estimadores de mínimos cuadrados aumenta y de consecuencia aumenta también la varianza de las predicciones que hace el modelo obtenido.\n"
   ]
  },
  {
   "cell_type": "code",
   "execution_count": null,
   "metadata": {
    "id": "gUIpYL6eHdk2"
   },
   "outputs": [],
   "source": [
    "\n",
    "import pandas as pd\n",
    "import numpy as np\n",
    "import warnings\n",
    "warnings.filterwarnings(\"ignore\")\n",
    "import seaborn as sns; sns.set()\n",
    "import matplotlib.pyplot as plt\n",
    "from sklearn.linear_model import LinearRegression\n",
    "from sklearn.model_selection import train_test_split\n",
    "import statsmodels.api as sm\n",
    "from sklearn.preprocessing import StandardScaler, MinMaxScaler, PolynomialFeatures, LabelEncoder"
   ]
  },
  {
   "cell_type": "markdown",
   "metadata": {
    "id": "NaUD_3YYHdk2"
   },
   "source": [
    "## Databases"
   ]
  },
  {
   "cell_type": "markdown",
   "metadata": {
    "id": "j7hcTqHVHdk3"
   },
   "source": [
    "### UJIIndoorLoc Dataset"
   ]
  },
  {
   "cell_type": "markdown",
   "metadata": {
    "id": "qf2w2GNLHdk3"
   },
   "source": [
    "[UJIIndoorLoc Data Set](https://archive.ics.uci.edu/ml/datasets/UJIIndoorLoc)"
   ]
  },
  {
   "cell_type": "code",
   "execution_count": null,
   "metadata": {
    "id": "zEVZ3_k5Hdk3",
    "outputId": "8882143f-6be1-49a2-99a0-ab531736dd7c"
   },
   "outputs": [
    {
     "data": {
      "text/html": [
       "<div>\n",
       "<style scoped>\n",
       "    .dataframe tbody tr th:only-of-type {\n",
       "        vertical-align: middle;\n",
       "    }\n",
       "\n",
       "    .dataframe tbody tr th {\n",
       "        vertical-align: top;\n",
       "    }\n",
       "\n",
       "    .dataframe thead th {\n",
       "        text-align: right;\n",
       "    }\n",
       "</style>\n",
       "<table border=\"1\" class=\"dataframe\">\n",
       "  <thead>\n",
       "    <tr style=\"text-align: right;\">\n",
       "      <th></th>\n",
       "      <th>WAP001</th>\n",
       "      <th>WAP002</th>\n",
       "      <th>WAP003</th>\n",
       "      <th>WAP004</th>\n",
       "      <th>WAP005</th>\n",
       "      <th>WAP006</th>\n",
       "      <th>WAP007</th>\n",
       "      <th>WAP008</th>\n",
       "      <th>WAP009</th>\n",
       "      <th>WAP010</th>\n",
       "      <th>...</th>\n",
       "      <th>WAP513</th>\n",
       "      <th>WAP514</th>\n",
       "      <th>WAP515</th>\n",
       "      <th>WAP516</th>\n",
       "      <th>WAP517</th>\n",
       "      <th>WAP518</th>\n",
       "      <th>WAP519</th>\n",
       "      <th>WAP520</th>\n",
       "      <th>LONGITUDE</th>\n",
       "      <th>LATITUDE</th>\n",
       "    </tr>\n",
       "  </thead>\n",
       "  <tbody>\n",
       "    <tr>\n",
       "      <th>0</th>\n",
       "      <td>100</td>\n",
       "      <td>100</td>\n",
       "      <td>100</td>\n",
       "      <td>100</td>\n",
       "      <td>100</td>\n",
       "      <td>100</td>\n",
       "      <td>100</td>\n",
       "      <td>100</td>\n",
       "      <td>100</td>\n",
       "      <td>100</td>\n",
       "      <td>...</td>\n",
       "      <td>100</td>\n",
       "      <td>100</td>\n",
       "      <td>100</td>\n",
       "      <td>100</td>\n",
       "      <td>100</td>\n",
       "      <td>100</td>\n",
       "      <td>100</td>\n",
       "      <td>100</td>\n",
       "      <td>-7541.2643</td>\n",
       "      <td>4.864921e+06</td>\n",
       "    </tr>\n",
       "    <tr>\n",
       "      <th>1</th>\n",
       "      <td>100</td>\n",
       "      <td>100</td>\n",
       "      <td>100</td>\n",
       "      <td>100</td>\n",
       "      <td>100</td>\n",
       "      <td>100</td>\n",
       "      <td>100</td>\n",
       "      <td>100</td>\n",
       "      <td>100</td>\n",
       "      <td>100</td>\n",
       "      <td>...</td>\n",
       "      <td>100</td>\n",
       "      <td>100</td>\n",
       "      <td>100</td>\n",
       "      <td>100</td>\n",
       "      <td>100</td>\n",
       "      <td>100</td>\n",
       "      <td>100</td>\n",
       "      <td>100</td>\n",
       "      <td>-7536.6212</td>\n",
       "      <td>4.864934e+06</td>\n",
       "    </tr>\n",
       "    <tr>\n",
       "      <th>2</th>\n",
       "      <td>100</td>\n",
       "      <td>100</td>\n",
       "      <td>100</td>\n",
       "      <td>100</td>\n",
       "      <td>100</td>\n",
       "      <td>100</td>\n",
       "      <td>100</td>\n",
       "      <td>-97</td>\n",
       "      <td>100</td>\n",
       "      <td>100</td>\n",
       "      <td>...</td>\n",
       "      <td>100</td>\n",
       "      <td>100</td>\n",
       "      <td>100</td>\n",
       "      <td>100</td>\n",
       "      <td>100</td>\n",
       "      <td>100</td>\n",
       "      <td>100</td>\n",
       "      <td>100</td>\n",
       "      <td>-7519.1524</td>\n",
       "      <td>4.864950e+06</td>\n",
       "    </tr>\n",
       "    <tr>\n",
       "      <th>3</th>\n",
       "      <td>100</td>\n",
       "      <td>100</td>\n",
       "      <td>100</td>\n",
       "      <td>100</td>\n",
       "      <td>100</td>\n",
       "      <td>100</td>\n",
       "      <td>100</td>\n",
       "      <td>100</td>\n",
       "      <td>100</td>\n",
       "      <td>100</td>\n",
       "      <td>...</td>\n",
       "      <td>100</td>\n",
       "      <td>100</td>\n",
       "      <td>100</td>\n",
       "      <td>100</td>\n",
       "      <td>100</td>\n",
       "      <td>100</td>\n",
       "      <td>100</td>\n",
       "      <td>100</td>\n",
       "      <td>-7524.5704</td>\n",
       "      <td>4.864934e+06</td>\n",
       "    </tr>\n",
       "    <tr>\n",
       "      <th>4</th>\n",
       "      <td>100</td>\n",
       "      <td>100</td>\n",
       "      <td>100</td>\n",
       "      <td>100</td>\n",
       "      <td>100</td>\n",
       "      <td>100</td>\n",
       "      <td>100</td>\n",
       "      <td>100</td>\n",
       "      <td>100</td>\n",
       "      <td>100</td>\n",
       "      <td>...</td>\n",
       "      <td>100</td>\n",
       "      <td>100</td>\n",
       "      <td>100</td>\n",
       "      <td>100</td>\n",
       "      <td>100</td>\n",
       "      <td>100</td>\n",
       "      <td>100</td>\n",
       "      <td>100</td>\n",
       "      <td>-7632.1436</td>\n",
       "      <td>4.864982e+06</td>\n",
       "    </tr>\n",
       "  </tbody>\n",
       "</table>\n",
       "<p>5 rows × 522 columns</p>\n",
       "</div>"
      ],
      "text/plain": [
       "   WAP001  WAP002  WAP003  WAP004  WAP005  WAP006  WAP007  WAP008  WAP009  \\\n",
       "0     100     100     100     100     100     100     100     100     100   \n",
       "1     100     100     100     100     100     100     100     100     100   \n",
       "2     100     100     100     100     100     100     100     -97     100   \n",
       "3     100     100     100     100     100     100     100     100     100   \n",
       "4     100     100     100     100     100     100     100     100     100   \n",
       "\n",
       "   WAP010  ...  WAP513  WAP514  WAP515  WAP516  WAP517  WAP518  WAP519  \\\n",
       "0     100  ...     100     100     100     100     100     100     100   \n",
       "1     100  ...     100     100     100     100     100     100     100   \n",
       "2     100  ...     100     100     100     100     100     100     100   \n",
       "3     100  ...     100     100     100     100     100     100     100   \n",
       "4     100  ...     100     100     100     100     100     100     100   \n",
       "\n",
       "   WAP520  LONGITUDE      LATITUDE  \n",
       "0     100 -7541.2643  4.864921e+06  \n",
       "1     100 -7536.6212  4.864934e+06  \n",
       "2     100 -7519.1524  4.864950e+06  \n",
       "3     100 -7524.5704  4.864934e+06  \n",
       "4     100 -7632.1436  4.864982e+06  \n",
       "\n",
       "[5 rows x 522 columns]"
      ]
     },
     "execution_count": 41,
     "metadata": {},
     "output_type": "execute_result"
    }
   ],
   "source": [
    "df = pd.read_csv(\"datasets/UJIndoorLoc/trainingData.csv\")\n",
    "df.drop([\"FLOOR\", \"BUILDINGID\", \"SPACEID\", \"RELATIVEPOSITION\", \"USERID\", \"PHONEID\", \"TIMESTAMP\"], axis= 1, inplace= True)\n",
    "df.head()"
   ]
  },
  {
   "cell_type": "code",
   "execution_count": null,
   "metadata": {
    "id": "ZQhrDht0Hdk4",
    "outputId": "8aaa5748-7ae1-4791-849b-98c6e50a2bac"
   },
   "outputs": [
    {
     "data": {
      "text/html": [
       "<div>\n",
       "<style scoped>\n",
       "    .dataframe tbody tr th:only-of-type {\n",
       "        vertical-align: middle;\n",
       "    }\n",
       "\n",
       "    .dataframe tbody tr th {\n",
       "        vertical-align: top;\n",
       "    }\n",
       "\n",
       "    .dataframe thead th {\n",
       "        text-align: right;\n",
       "    }\n",
       "</style>\n",
       "<table border=\"1\" class=\"dataframe\">\n",
       "  <thead>\n",
       "    <tr style=\"text-align: right;\">\n",
       "      <th></th>\n",
       "      <th>0</th>\n",
       "      <th>1</th>\n",
       "      <th>2</th>\n",
       "      <th>3</th>\n",
       "      <th>4</th>\n",
       "      <th>5</th>\n",
       "      <th>6</th>\n",
       "      <th>7</th>\n",
       "      <th>8</th>\n",
       "      <th>9</th>\n",
       "      <th>...</th>\n",
       "      <th>135451</th>\n",
       "      <th>135452</th>\n",
       "      <th>135453</th>\n",
       "      <th>135454</th>\n",
       "      <th>135455</th>\n",
       "      <th>135456</th>\n",
       "      <th>135457</th>\n",
       "      <th>135458</th>\n",
       "      <th>135459</th>\n",
       "      <th>135460</th>\n",
       "    </tr>\n",
       "  </thead>\n",
       "  <tbody>\n",
       "    <tr>\n",
       "      <th>0</th>\n",
       "      <td>1.0</td>\n",
       "      <td>0.0</td>\n",
       "      <td>0.0</td>\n",
       "      <td>0.0</td>\n",
       "      <td>0.0</td>\n",
       "      <td>0.0</td>\n",
       "      <td>0.0</td>\n",
       "      <td>0.0</td>\n",
       "      <td>0.00</td>\n",
       "      <td>0.0</td>\n",
       "      <td>...</td>\n",
       "      <td>0.0</td>\n",
       "      <td>0.0</td>\n",
       "      <td>0.0</td>\n",
       "      <td>0.0</td>\n",
       "      <td>0.0</td>\n",
       "      <td>0.0</td>\n",
       "      <td>0.0</td>\n",
       "      <td>0.0</td>\n",
       "      <td>0.0</td>\n",
       "      <td>0.0</td>\n",
       "    </tr>\n",
       "    <tr>\n",
       "      <th>1</th>\n",
       "      <td>1.0</td>\n",
       "      <td>0.0</td>\n",
       "      <td>0.0</td>\n",
       "      <td>0.0</td>\n",
       "      <td>0.0</td>\n",
       "      <td>0.0</td>\n",
       "      <td>0.0</td>\n",
       "      <td>0.0</td>\n",
       "      <td>0.55</td>\n",
       "      <td>0.0</td>\n",
       "      <td>...</td>\n",
       "      <td>0.0</td>\n",
       "      <td>0.0</td>\n",
       "      <td>0.0</td>\n",
       "      <td>0.0</td>\n",
       "      <td>0.0</td>\n",
       "      <td>0.0</td>\n",
       "      <td>0.0</td>\n",
       "      <td>0.0</td>\n",
       "      <td>0.0</td>\n",
       "      <td>0.0</td>\n",
       "    </tr>\n",
       "    <tr>\n",
       "      <th>2</th>\n",
       "      <td>1.0</td>\n",
       "      <td>0.0</td>\n",
       "      <td>0.0</td>\n",
       "      <td>0.0</td>\n",
       "      <td>0.0</td>\n",
       "      <td>0.0</td>\n",
       "      <td>0.0</td>\n",
       "      <td>0.0</td>\n",
       "      <td>0.00</td>\n",
       "      <td>0.0</td>\n",
       "      <td>...</td>\n",
       "      <td>0.0</td>\n",
       "      <td>0.0</td>\n",
       "      <td>0.0</td>\n",
       "      <td>0.0</td>\n",
       "      <td>0.0</td>\n",
       "      <td>0.0</td>\n",
       "      <td>0.0</td>\n",
       "      <td>0.0</td>\n",
       "      <td>0.0</td>\n",
       "      <td>0.0</td>\n",
       "    </tr>\n",
       "    <tr>\n",
       "      <th>3</th>\n",
       "      <td>1.0</td>\n",
       "      <td>0.0</td>\n",
       "      <td>0.0</td>\n",
       "      <td>0.0</td>\n",
       "      <td>0.0</td>\n",
       "      <td>0.0</td>\n",
       "      <td>0.0</td>\n",
       "      <td>0.0</td>\n",
       "      <td>0.00</td>\n",
       "      <td>0.0</td>\n",
       "      <td>...</td>\n",
       "      <td>0.0</td>\n",
       "      <td>0.0</td>\n",
       "      <td>0.0</td>\n",
       "      <td>0.0</td>\n",
       "      <td>0.0</td>\n",
       "      <td>0.0</td>\n",
       "      <td>0.0</td>\n",
       "      <td>0.0</td>\n",
       "      <td>0.0</td>\n",
       "      <td>0.0</td>\n",
       "    </tr>\n",
       "    <tr>\n",
       "      <th>4</th>\n",
       "      <td>1.0</td>\n",
       "      <td>0.0</td>\n",
       "      <td>0.0</td>\n",
       "      <td>0.0</td>\n",
       "      <td>0.0</td>\n",
       "      <td>0.0</td>\n",
       "      <td>0.0</td>\n",
       "      <td>0.0</td>\n",
       "      <td>0.00</td>\n",
       "      <td>0.0</td>\n",
       "      <td>...</td>\n",
       "      <td>0.0</td>\n",
       "      <td>0.0</td>\n",
       "      <td>0.0</td>\n",
       "      <td>0.0</td>\n",
       "      <td>0.0</td>\n",
       "      <td>0.0</td>\n",
       "      <td>0.0</td>\n",
       "      <td>0.0</td>\n",
       "      <td>0.0</td>\n",
       "      <td>0.0</td>\n",
       "    </tr>\n",
       "  </tbody>\n",
       "</table>\n",
       "<p>5 rows × 135461 columns</p>\n",
       "</div>"
      ],
      "text/plain": [
       "   0       1       2       3       4       5       6       7       8       \\\n",
       "0     1.0     0.0     0.0     0.0     0.0     0.0     0.0     0.0    0.00   \n",
       "1     1.0     0.0     0.0     0.0     0.0     0.0     0.0     0.0    0.55   \n",
       "2     1.0     0.0     0.0     0.0     0.0     0.0     0.0     0.0    0.00   \n",
       "3     1.0     0.0     0.0     0.0     0.0     0.0     0.0     0.0    0.00   \n",
       "4     1.0     0.0     0.0     0.0     0.0     0.0     0.0     0.0    0.00   \n",
       "\n",
       "   9       ...  135451  135452  135453  135454  135455  135456  135457  \\\n",
       "0     0.0  ...     0.0     0.0     0.0     0.0     0.0     0.0     0.0   \n",
       "1     0.0  ...     0.0     0.0     0.0     0.0     0.0     0.0     0.0   \n",
       "2     0.0  ...     0.0     0.0     0.0     0.0     0.0     0.0     0.0   \n",
       "3     0.0  ...     0.0     0.0     0.0     0.0     0.0     0.0     0.0   \n",
       "4     0.0  ...     0.0     0.0     0.0     0.0     0.0     0.0     0.0   \n",
       "\n",
       "   135458  135459  135460  \n",
       "0     0.0     0.0     0.0  \n",
       "1     0.0     0.0     0.0  \n",
       "2     0.0     0.0     0.0  \n",
       "3     0.0     0.0     0.0  \n",
       "4     0.0     0.0     0.0  \n",
       "\n",
       "[5 rows x 135461 columns]"
      ]
     },
     "execution_count": 42,
     "metadata": {},
     "output_type": "execute_result"
    }
   ],
   "source": [
    "df = df.replace(100,-105)\n",
    "\n",
    "scaler = MinMaxScaler()\n",
    "scaler.fit(df)\n",
    "loc = pd.DataFrame(scaler.fit_transform(df.sample(n=520, random_state=1)), columns=df.columns)\n",
    "\n",
    "y = loc[[\"LONGITUDE\", \"LATITUDE\"]]\n",
    "X = loc.drop([\"LONGITUDE\", \"LATITUDE\"], axis= 1)\n",
    "\n",
    "#135461 columnas(originalmente 520)\n",
    "poly = PolynomialFeatures(2, interaction_only=True)\n",
    "X = pd.DataFrame(poly.fit_transform(X))\n",
    "\n",
    "X.head()"
   ]
  },
  {
   "cell_type": "code",
   "execution_count": null,
   "metadata": {
    "id": "TrBmAhXLHdk4",
    "outputId": "d0940162-b2a6-435a-fda7-80e810438cf1"
   },
   "outputs": [
    {
     "name": "stdout",
     "output_type": "stream",
     "text": [
      "<class 'pandas.core.frame.DataFrame'>\n",
      "RangeIndex: 520 entries, 0 to 519\n",
      "Columns: 135461 entries, 0 to 135460\n",
      "dtypes: float64(135461)\n",
      "memory usage: 537.4 MB\n"
     ]
    }
   ],
   "source": [
    "X.info()"
   ]
  },
  {
   "cell_type": "code",
   "execution_count": null,
   "metadata": {
    "id": "vomfBo1UHdk5"
   },
   "outputs": [],
   "source": [
    "clases = [\"LONGITUDE\", \"LATITUDE\"]\n",
    "varianzas_medias = [[],[]]\n",
    "cols = range(200, 2500, 100)\n",
    "\n",
    "for n_col in cols:\n",
    "    for i in range(2):\n",
    "        y_i = y[clases[i]]\n",
    "        X_i = X.iloc[: , :n_col]\n",
    "        \n",
    "        X_train, X_test, y_train, y_test = train_test_split(X_i, y_i, test_size=0.2, shuffle= False)\n",
    "\n",
    "        reg = LinearRegression().fit(X_train, y_train)\n",
    "        R2 = reg.score(X_test, y_test)\n",
    "        \n",
    "        v = (1 - R2) * y_test.var()\n",
    "        \n",
    "        varianzas_medias[i].append(v)"
   ]
  },
  {
   "cell_type": "code",
   "execution_count": null,
   "metadata": {
    "id": "iWlwmCkdHdk5",
    "outputId": "a3184344-d1e0-41ed-e9c2-60a8f5a56b9e"
   },
   "outputs": [
    {
     "data": {
      "image/png": "[encoded data removed]",
      "text/plain": [
       "<Figure size 720x504 with 1 Axes>"
      ]
     },
     "metadata": {},
     "output_type": "display_data"
    }
   ],
   "source": [
    "plt.figure(figsize=(10,7))\n",
    "\n",
    "# Plot the data\n",
    "plt.plot(cols, varianzas_medias[1], 'r', label='Latitude')\n",
    "plt.axvline(x= 520)\n",
    "\n",
    "# Add a legend\n",
    "plt.legend()\n",
    "\n",
    "plt.xlabel(\"Cantidad de atributos\")\n",
    "plt.ylabel(\"Promedio de varianzas\")\n",
    "\n",
    "# Show the plot\n",
    "plt.show()"
   ]
  },
  {
   "cell_type": "code",
   "execution_count": null,
   "metadata": {
    "id": "MKgnq1F_Hdk5",
    "outputId": "378d6eae-5135-4ab7-f6c0-b224d10fbdf6"
   },
   "outputs": [
    {
     "data": {
      "image/png": "[encoded data removed]",
      "text/plain": [
       "<Figure size 720x504 with 1 Axes>"
      ]
     },
     "metadata": {},
     "output_type": "display_data"
    }
   ],
   "source": [
    "plt.figure(figsize=(10,7))\n",
    "\n",
    "# Plot the data\n",
    "plt.plot(cols[cols.index(1000):], varianzas_medias[1][cols.index(1000):], 'r', label='Latitude')\n",
    "\n",
    "# Add a legend\n",
    "plt.legend()\n",
    "\n",
    "plt.xlabel(\"Cantidad de atributos\")\n",
    "plt.ylabel(\"Promedio de varianzas\")\n",
    "\n",
    "# Show the plot\n",
    "plt.show()"
   ]
  },
  {
   "cell_type": "code",
   "execution_count": null,
   "metadata": {
    "id": "bvkkdoFeHdk6",
    "outputId": "3119f6e7-0b72-4286-efd8-fba65b520390"
   },
   "outputs": [
    {
     "data": {
      "image/png": "[encoded data removed]",
      "text/plain": [
       "<Figure size 720x504 with 1 Axes>"
      ]
     },
     "metadata": {},
     "output_type": "display_data"
    }
   ],
   "source": [
    "plt.figure(figsize=(10,7))\n",
    "\n",
    "# Plot the data\n",
    "plt.plot(cols, varianzas_medias[0], 'b', label='Longitude')\n",
    "plt.axvline(x= 520)\n",
    "\n",
    "# Add a legend\n",
    "plt.legend()\n",
    "\n",
    "plt.xlabel(\"Cantidad de atributos\")\n",
    "plt.ylabel(\"Promedio de varianzas\")\n",
    "\n",
    "# Show the plot\n",
    "plt.show()"
   ]
  },
  {
   "cell_type": "code",
   "execution_count": null,
   "metadata": {
    "id": "W87MSElxHdk7",
    "outputId": "fa096248-4a4e-41ec-99ee-2c6782028101"
   },
   "outputs": [
    {
     "data": {
      "image/png": "[encoded data removed]",
      "text/plain": [
       "<Figure size 720x504 with 1 Axes>"
      ]
     },
     "metadata": {},
     "output_type": "display_data"
    }
   ],
   "source": [
    "plt.figure(figsize=(10,7))\n",
    "\n",
    "# Plot the data\n",
    "plt.plot(cols[cols.index(1000):], varianzas_medias[0][cols.index(1000):], 'b', label='Longitude')\n",
    "\n",
    "# Add a legend\n",
    "plt.legend()\n",
    "\n",
    "plt.xlabel(\"Cantidad de atributos\")\n",
    "plt.ylabel(\"Promedio de varianzas\")\n",
    "\n",
    "# Show the plot\n",
    "plt.show()"
   ]
  },
  {
   "cell_type": "code",
   "execution_count": null,
   "metadata": {
    "id": "1vfpmqHiHdk7",
    "outputId": "b2fc0355-56b5-4a30-9f05-e53280a7ece6"
   },
   "outputs": [
    {
     "data": {
      "text/plain": [
       "' X_train, X_test, y_train, y_test = train_test_split(X, y, test_size=0.2, random_state=0)\\nreg = LinearRegression().fit(X_train, y_train)\\nprint(reg.score(X_test, y_test)) '"
      ]
     },
     "execution_count": 49,
     "metadata": {},
     "output_type": "execute_result"
    }
   ],
   "source": [
    "\"\"\" X_train, X_test, y_train, y_test = train_test_split(X, y, test_size=0.2, random_state=0)\n",
    "reg = LinearRegression().fit(X_train, y_train)\n",
    "print(reg.score(X_test, y_test)) \"\"\""
   ]
  },
  {
   "cell_type": "markdown",
   "metadata": {
    "id": "jXccrFTlHdk8"
   },
   "source": [
    "### Crime dataset"
   ]
  },
  {
   "cell_type": "markdown",
   "metadata": {
    "id": "MG6YtRqUHdk8"
   },
   "source": [
    "[Communities and Crime Unnormalized Data Set](https://archive.ics.uci.edu/ml/datasets/Communities+and+Crime+Unnormalized)"
   ]
  },
  {
   "cell_type": "code",
   "execution_count": null,
   "metadata": {
    "id": "mNfJ-lVTHdk8",
    "outputId": "c2727e90-1106-441f-c12e-7a2f31160d1a"
   },
   "outputs": [
    {
     "data": {
      "text/html": [
       "<div>\n",
       "<style scoped>\n",
       "    .dataframe tbody tr th:only-of-type {\n",
       "        vertical-align: middle;\n",
       "    }\n",
       "\n",
       "    .dataframe tbody tr th {\n",
       "        vertical-align: top;\n",
       "    }\n",
       "\n",
       "    .dataframe thead th {\n",
       "        text-align: right;\n",
       "    }\n",
       "</style>\n",
       "<table border=\"1\" class=\"dataframe\">\n",
       "  <thead>\n",
       "    <tr style=\"text-align: right;\">\n",
       "      <th></th>\n",
       "      <th>BerkeleyHeightstownship</th>\n",
       "      <th>NJ</th>\n",
       "      <th>39</th>\n",
       "      <th>5320</th>\n",
       "      <th>1</th>\n",
       "      <th>11980</th>\n",
       "      <th>3.1</th>\n",
       "      <th>1.37</th>\n",
       "      <th>91.78</th>\n",
       "      <th>6.5</th>\n",
       "      <th>...</th>\n",
       "      <th>14.1</th>\n",
       "      <th>114.85</th>\n",
       "      <th>138</th>\n",
       "      <th>1132.08</th>\n",
       "      <th>16</th>\n",
       "      <th>131.26</th>\n",
       "      <th>2</th>\n",
       "      <th>16.41</th>\n",
       "      <th>41.02</th>\n",
       "      <th>1394.59</th>\n",
       "    </tr>\n",
       "  </thead>\n",
       "  <tbody>\n",
       "    <tr>\n",
       "      <th>0</th>\n",
       "      <td>Marpletownship</td>\n",
       "      <td>PA</td>\n",
       "      <td>45</td>\n",
       "      <td>47616</td>\n",
       "      <td>1</td>\n",
       "      <td>23123</td>\n",
       "      <td>2.82</td>\n",
       "      <td>0.80</td>\n",
       "      <td>95.57</td>\n",
       "      <td>3.44</td>\n",
       "      <td>...</td>\n",
       "      <td>57</td>\n",
       "      <td>242.37</td>\n",
       "      <td>376</td>\n",
       "      <td>1598.78</td>\n",
       "      <td>26</td>\n",
       "      <td>110.55</td>\n",
       "      <td>1</td>\n",
       "      <td>4.25</td>\n",
       "      <td>127.56</td>\n",
       "      <td>1955.95</td>\n",
       "    </tr>\n",
       "    <tr>\n",
       "      <th>1</th>\n",
       "      <td>Tigardcity</td>\n",
       "      <td>OR</td>\n",
       "      <td>?</td>\n",
       "      <td>?</td>\n",
       "      <td>1</td>\n",
       "      <td>29344</td>\n",
       "      <td>2.43</td>\n",
       "      <td>0.74</td>\n",
       "      <td>94.33</td>\n",
       "      <td>3.43</td>\n",
       "      <td>...</td>\n",
       "      <td>274</td>\n",
       "      <td>758.14</td>\n",
       "      <td>1797</td>\n",
       "      <td>4972.19</td>\n",
       "      <td>136</td>\n",
       "      <td>376.3</td>\n",
       "      <td>22</td>\n",
       "      <td>60.87</td>\n",
       "      <td>218.59</td>\n",
       "      <td>6167.51</td>\n",
       "    </tr>\n",
       "    <tr>\n",
       "      <th>2</th>\n",
       "      <td>Gloversvillecity</td>\n",
       "      <td>NY</td>\n",
       "      <td>35</td>\n",
       "      <td>29443</td>\n",
       "      <td>1</td>\n",
       "      <td>16656</td>\n",
       "      <td>2.40</td>\n",
       "      <td>1.70</td>\n",
       "      <td>97.35</td>\n",
       "      <td>0.50</td>\n",
       "      <td>...</td>\n",
       "      <td>225</td>\n",
       "      <td>1301.78</td>\n",
       "      <td>716</td>\n",
       "      <td>4142.56</td>\n",
       "      <td>47</td>\n",
       "      <td>271.93</td>\n",
       "      <td>?</td>\n",
       "      <td>?</td>\n",
       "      <td>306.64</td>\n",
       "      <td>?</td>\n",
       "    </tr>\n",
       "    <tr>\n",
       "      <th>3</th>\n",
       "      <td>Bemidjicity</td>\n",
       "      <td>MN</td>\n",
       "      <td>7</td>\n",
       "      <td>5068</td>\n",
       "      <td>1</td>\n",
       "      <td>11245</td>\n",
       "      <td>2.76</td>\n",
       "      <td>0.53</td>\n",
       "      <td>89.16</td>\n",
       "      <td>1.17</td>\n",
       "      <td>...</td>\n",
       "      <td>91</td>\n",
       "      <td>728.93</td>\n",
       "      <td>1060</td>\n",
       "      <td>8490.87</td>\n",
       "      <td>91</td>\n",
       "      <td>728.93</td>\n",
       "      <td>5</td>\n",
       "      <td>40.05</td>\n",
       "      <td>?</td>\n",
       "      <td>9988.79</td>\n",
       "    </tr>\n",
       "    <tr>\n",
       "      <th>4</th>\n",
       "      <td>Springfieldcity</td>\n",
       "      <td>MO</td>\n",
       "      <td>?</td>\n",
       "      <td>?</td>\n",
       "      <td>1</td>\n",
       "      <td>140494</td>\n",
       "      <td>2.45</td>\n",
       "      <td>2.51</td>\n",
       "      <td>95.65</td>\n",
       "      <td>0.90</td>\n",
       "      <td>...</td>\n",
       "      <td>2094</td>\n",
       "      <td>1386.46</td>\n",
       "      <td>7690</td>\n",
       "      <td>5091.64</td>\n",
       "      <td>454</td>\n",
       "      <td>300.6</td>\n",
       "      <td>134</td>\n",
       "      <td>88.72</td>\n",
       "      <td>442.95</td>\n",
       "      <td>6867.42</td>\n",
       "    </tr>\n",
       "  </tbody>\n",
       "</table>\n",
       "<p>5 rows × 147 columns</p>\n",
       "</div>"
      ],
      "text/plain": [
       "  BerkeleyHeightstownship  NJ  39   5320  1   11980   3.1  1.37  91.78   6.5  \\\n",
       "0          Marpletownship  PA  45  47616  1   23123  2.82  0.80  95.57  3.44   \n",
       "1              Tigardcity  OR   ?      ?  1   29344  2.43  0.74  94.33  3.43   \n",
       "2        Gloversvillecity  NY  35  29443  1   16656  2.40  1.70  97.35  0.50   \n",
       "3             Bemidjicity  MN   7   5068  1   11245  2.76  0.53  89.16  1.17   \n",
       "4         Springfieldcity  MO   ?      ?  1  140494  2.45  2.51  95.65  0.90   \n",
       "\n",
       "   ...  14.1   114.85   138  1132.08   16  131.26    2  16.41   41.02  1394.59  \n",
       "0  ...    57   242.37   376  1598.78   26  110.55    1   4.25  127.56  1955.95  \n",
       "1  ...   274   758.14  1797  4972.19  136   376.3   22  60.87  218.59  6167.51  \n",
       "2  ...   225  1301.78   716  4142.56   47  271.93    ?      ?  306.64        ?  \n",
       "3  ...    91   728.93  1060  8490.87   91  728.93    5  40.05       ?  9988.79  \n",
       "4  ...  2094  1386.46  7690  5091.64  454   300.6  134  88.72  442.95  6867.42  \n",
       "\n",
       "[5 rows x 147 columns]"
      ]
     },
     "execution_count": 50,
     "metadata": {},
     "output_type": "execute_result"
    }
   ],
   "source": [
    "crime_df = pd.read_csv(\"datasets/CommViolPredUnnormalizedData.txt\")\n",
    "crime_df.head()"
   ]
  },
  {
   "cell_type": "code",
   "execution_count": null,
   "metadata": {
    "id": "EQSxRY3KHdk8",
    "outputId": "59cf6cc5-de13-4c98-ab1d-ebafe4ab0f7e"
   },
   "outputs": [
    {
     "data": {
      "text/plain": [
       "BerkeleyHeightstownship    2017\n",
       "NJ                           48\n",
       "39                          115\n",
       "5320                        959\n",
       "1                            10\n",
       "                           ... \n",
       "131.26                     2172\n",
       "2                           179\n",
       "16.41                      1577\n",
       "41.02                      1973\n",
       "1394.59                    2113\n",
       "Length: 147, dtype: int64"
      ]
     },
     "execution_count": 51,
     "metadata": {},
     "output_type": "execute_result"
    }
   ],
   "source": [
    "crime_df.nunique()"
   ]
  },
  {
   "cell_type": "markdown",
   "metadata": {
    "id": "KzIbRaSWHdk9"
   },
   "source": [
    "### House prices dataset "
   ]
  },
  {
   "cell_type": "code",
   "execution_count": null,
   "metadata": {
    "id": "QxPuNscfHdk9",
    "outputId": "93a54257-d616-46e5-cde6-8ca6d091901b"
   },
   "outputs": [
    {
     "data": {
      "text/html": [
       "<div>\n",
       "<style scoped>\n",
       "    .dataframe tbody tr th:only-of-type {\n",
       "        vertical-align: middle;\n",
       "    }\n",
       "\n",
       "    .dataframe tbody tr th {\n",
       "        vertical-align: top;\n",
       "    }\n",
       "\n",
       "    .dataframe thead th {\n",
       "        text-align: right;\n",
       "    }\n",
       "</style>\n",
       "<table border=\"1\" class=\"dataframe\">\n",
       "  <thead>\n",
       "    <tr style=\"text-align: right;\">\n",
       "      <th></th>\n",
       "      <th>Id</th>\n",
       "      <th>MSSubClass</th>\n",
       "      <th>MSZoning</th>\n",
       "      <th>LotFrontage</th>\n",
       "      <th>LotArea</th>\n",
       "      <th>Street</th>\n",
       "      <th>Alley</th>\n",
       "      <th>LotShape</th>\n",
       "      <th>LandContour</th>\n",
       "      <th>Utilities</th>\n",
       "      <th>...</th>\n",
       "      <th>PoolArea</th>\n",
       "      <th>PoolQC</th>\n",
       "      <th>Fence</th>\n",
       "      <th>MiscFeature</th>\n",
       "      <th>MiscVal</th>\n",
       "      <th>MoSold</th>\n",
       "      <th>YrSold</th>\n",
       "      <th>SaleType</th>\n",
       "      <th>SaleCondition</th>\n",
       "      <th>SalePrice</th>\n",
       "    </tr>\n",
       "  </thead>\n",
       "  <tbody>\n",
       "    <tr>\n",
       "      <th>0</th>\n",
       "      <td>1</td>\n",
       "      <td>60</td>\n",
       "      <td>RL</td>\n",
       "      <td>65.0</td>\n",
       "      <td>8450</td>\n",
       "      <td>Pave</td>\n",
       "      <td>NaN</td>\n",
       "      <td>Reg</td>\n",
       "      <td>Lvl</td>\n",
       "      <td>AllPub</td>\n",
       "      <td>...</td>\n",
       "      <td>0</td>\n",
       "      <td>NaN</td>\n",
       "      <td>NaN</td>\n",
       "      <td>NaN</td>\n",
       "      <td>0</td>\n",
       "      <td>2</td>\n",
       "      <td>2008</td>\n",
       "      <td>WD</td>\n",
       "      <td>Normal</td>\n",
       "      <td>208500</td>\n",
       "    </tr>\n",
       "    <tr>\n",
       "      <th>1</th>\n",
       "      <td>2</td>\n",
       "      <td>20</td>\n",
       "      <td>RL</td>\n",
       "      <td>80.0</td>\n",
       "      <td>9600</td>\n",
       "      <td>Pave</td>\n",
       "      <td>NaN</td>\n",
       "      <td>Reg</td>\n",
       "      <td>Lvl</td>\n",
       "      <td>AllPub</td>\n",
       "      <td>...</td>\n",
       "      <td>0</td>\n",
       "      <td>NaN</td>\n",
       "      <td>NaN</td>\n",
       "      <td>NaN</td>\n",
       "      <td>0</td>\n",
       "      <td>5</td>\n",
       "      <td>2007</td>\n",
       "      <td>WD</td>\n",
       "      <td>Normal</td>\n",
       "      <td>181500</td>\n",
       "    </tr>\n",
       "    <tr>\n",
       "      <th>2</th>\n",
       "      <td>3</td>\n",
       "      <td>60</td>\n",
       "      <td>RL</td>\n",
       "      <td>68.0</td>\n",
       "      <td>11250</td>\n",
       "      <td>Pave</td>\n",
       "      <td>NaN</td>\n",
       "      <td>IR1</td>\n",
       "      <td>Lvl</td>\n",
       "      <td>AllPub</td>\n",
       "      <td>...</td>\n",
       "      <td>0</td>\n",
       "      <td>NaN</td>\n",
       "      <td>NaN</td>\n",
       "      <td>NaN</td>\n",
       "      <td>0</td>\n",
       "      <td>9</td>\n",
       "      <td>2008</td>\n",
       "      <td>WD</td>\n",
       "      <td>Normal</td>\n",
       "      <td>223500</td>\n",
       "    </tr>\n",
       "    <tr>\n",
       "      <th>3</th>\n",
       "      <td>4</td>\n",
       "      <td>70</td>\n",
       "      <td>RL</td>\n",
       "      <td>60.0</td>\n",
       "      <td>9550</td>\n",
       "      <td>Pave</td>\n",
       "      <td>NaN</td>\n",
       "      <td>IR1</td>\n",
       "      <td>Lvl</td>\n",
       "      <td>AllPub</td>\n",
       "      <td>...</td>\n",
       "      <td>0</td>\n",
       "      <td>NaN</td>\n",
       "      <td>NaN</td>\n",
       "      <td>NaN</td>\n",
       "      <td>0</td>\n",
       "      <td>2</td>\n",
       "      <td>2006</td>\n",
       "      <td>WD</td>\n",
       "      <td>Abnorml</td>\n",
       "      <td>140000</td>\n",
       "    </tr>\n",
       "    <tr>\n",
       "      <th>4</th>\n",
       "      <td>5</td>\n",
       "      <td>60</td>\n",
       "      <td>RL</td>\n",
       "      <td>84.0</td>\n",
       "      <td>14260</td>\n",
       "      <td>Pave</td>\n",
       "      <td>NaN</td>\n",
       "      <td>IR1</td>\n",
       "      <td>Lvl</td>\n",
       "      <td>AllPub</td>\n",
       "      <td>...</td>\n",
       "      <td>0</td>\n",
       "      <td>NaN</td>\n",
       "      <td>NaN</td>\n",
       "      <td>NaN</td>\n",
       "      <td>0</td>\n",
       "      <td>12</td>\n",
       "      <td>2008</td>\n",
       "      <td>WD</td>\n",
       "      <td>Normal</td>\n",
       "      <td>250000</td>\n",
       "    </tr>\n",
       "  </tbody>\n",
       "</table>\n",
       "<p>5 rows × 81 columns</p>\n",
       "</div>"
      ],
      "text/plain": [
       "   Id  MSSubClass MSZoning  LotFrontage  LotArea Street Alley LotShape  \\\n",
       "0   1          60       RL         65.0     8450   Pave   NaN      Reg   \n",
       "1   2          20       RL         80.0     9600   Pave   NaN      Reg   \n",
       "2   3          60       RL         68.0    11250   Pave   NaN      IR1   \n",
       "3   4          70       RL         60.0     9550   Pave   NaN      IR1   \n",
       "4   5          60       RL         84.0    14260   Pave   NaN      IR1   \n",
       "\n",
       "  LandContour Utilities  ... PoolArea PoolQC Fence MiscFeature MiscVal MoSold  \\\n",
       "0         Lvl    AllPub  ...        0    NaN   NaN         NaN       0      2   \n",
       "1         Lvl    AllPub  ...        0    NaN   NaN         NaN       0      5   \n",
       "2         Lvl    AllPub  ...        0    NaN   NaN         NaN       0      9   \n",
       "3         Lvl    AllPub  ...        0    NaN   NaN         NaN       0      2   \n",
       "4         Lvl    AllPub  ...        0    NaN   NaN         NaN       0     12   \n",
       "\n",
       "  YrSold  SaleType  SaleCondition  SalePrice  \n",
       "0   2008        WD         Normal     208500  \n",
       "1   2007        WD         Normal     181500  \n",
       "2   2008        WD         Normal     223500  \n",
       "3   2006        WD        Abnorml     140000  \n",
       "4   2008        WD         Normal     250000  \n",
       "\n",
       "[5 rows x 81 columns]"
      ]
     },
     "execution_count": 52,
     "metadata": {},
     "output_type": "execute_result"
    }
   ],
   "source": [
    "price = pd.read_csv(\"datasets/house_prices_train.csv\")\n",
    "price.head()"
   ]
  },
  {
   "cell_type": "code",
   "execution_count": null,
   "metadata": {
    "id": "0qJt1lxEHdk9",
    "outputId": "91719143-4d9f-482f-d063-258e3b3a3303"
   },
   "outputs": [
    {
     "data": {
      "text/html": [
       "<div>\n",
       "<style scoped>\n",
       "    .dataframe tbody tr th:only-of-type {\n",
       "        vertical-align: middle;\n",
       "    }\n",
       "\n",
       "    .dataframe tbody tr th {\n",
       "        vertical-align: top;\n",
       "    }\n",
       "\n",
       "    .dataframe thead th {\n",
       "        text-align: right;\n",
       "    }\n",
       "</style>\n",
       "<table border=\"1\" class=\"dataframe\">\n",
       "  <thead>\n",
       "    <tr style=\"text-align: right;\">\n",
       "      <th></th>\n",
       "      <th>Id</th>\n",
       "      <th>MSSubClass</th>\n",
       "      <th>MSZoning</th>\n",
       "      <th>LotFrontage</th>\n",
       "      <th>LotArea</th>\n",
       "      <th>Street</th>\n",
       "      <th>Alley</th>\n",
       "      <th>LotShape</th>\n",
       "      <th>LandContour</th>\n",
       "      <th>Utilities</th>\n",
       "      <th>...</th>\n",
       "      <th>PoolArea</th>\n",
       "      <th>PoolQC</th>\n",
       "      <th>Fence</th>\n",
       "      <th>MiscFeature</th>\n",
       "      <th>MiscVal</th>\n",
       "      <th>MoSold</th>\n",
       "      <th>YrSold</th>\n",
       "      <th>SaleType</th>\n",
       "      <th>SaleCondition</th>\n",
       "      <th>SalePrice</th>\n",
       "    </tr>\n",
       "  </thead>\n",
       "  <tbody>\n",
       "    <tr>\n",
       "      <th>0</th>\n",
       "      <td>1</td>\n",
       "      <td>5</td>\n",
       "      <td>3</td>\n",
       "      <td>65.0</td>\n",
       "      <td>8450</td>\n",
       "      <td>1</td>\n",
       "      <td>2</td>\n",
       "      <td>3</td>\n",
       "      <td>3</td>\n",
       "      <td>0</td>\n",
       "      <td>...</td>\n",
       "      <td>0</td>\n",
       "      <td>3</td>\n",
       "      <td>4</td>\n",
       "      <td>4</td>\n",
       "      <td>0</td>\n",
       "      <td>1</td>\n",
       "      <td>2</td>\n",
       "      <td>8</td>\n",
       "      <td>4</td>\n",
       "      <td>208500</td>\n",
       "    </tr>\n",
       "    <tr>\n",
       "      <th>1</th>\n",
       "      <td>2</td>\n",
       "      <td>0</td>\n",
       "      <td>3</td>\n",
       "      <td>80.0</td>\n",
       "      <td>9600</td>\n",
       "      <td>1</td>\n",
       "      <td>2</td>\n",
       "      <td>3</td>\n",
       "      <td>3</td>\n",
       "      <td>0</td>\n",
       "      <td>...</td>\n",
       "      <td>0</td>\n",
       "      <td>3</td>\n",
       "      <td>4</td>\n",
       "      <td>4</td>\n",
       "      <td>0</td>\n",
       "      <td>4</td>\n",
       "      <td>1</td>\n",
       "      <td>8</td>\n",
       "      <td>4</td>\n",
       "      <td>181500</td>\n",
       "    </tr>\n",
       "    <tr>\n",
       "      <th>2</th>\n",
       "      <td>3</td>\n",
       "      <td>5</td>\n",
       "      <td>3</td>\n",
       "      <td>68.0</td>\n",
       "      <td>11250</td>\n",
       "      <td>1</td>\n",
       "      <td>2</td>\n",
       "      <td>0</td>\n",
       "      <td>3</td>\n",
       "      <td>0</td>\n",
       "      <td>...</td>\n",
       "      <td>0</td>\n",
       "      <td>3</td>\n",
       "      <td>4</td>\n",
       "      <td>4</td>\n",
       "      <td>0</td>\n",
       "      <td>8</td>\n",
       "      <td>2</td>\n",
       "      <td>8</td>\n",
       "      <td>4</td>\n",
       "      <td>223500</td>\n",
       "    </tr>\n",
       "    <tr>\n",
       "      <th>3</th>\n",
       "      <td>4</td>\n",
       "      <td>6</td>\n",
       "      <td>3</td>\n",
       "      <td>60.0</td>\n",
       "      <td>9550</td>\n",
       "      <td>1</td>\n",
       "      <td>2</td>\n",
       "      <td>0</td>\n",
       "      <td>3</td>\n",
       "      <td>0</td>\n",
       "      <td>...</td>\n",
       "      <td>0</td>\n",
       "      <td>3</td>\n",
       "      <td>4</td>\n",
       "      <td>4</td>\n",
       "      <td>0</td>\n",
       "      <td>1</td>\n",
       "      <td>0</td>\n",
       "      <td>8</td>\n",
       "      <td>0</td>\n",
       "      <td>140000</td>\n",
       "    </tr>\n",
       "    <tr>\n",
       "      <th>4</th>\n",
       "      <td>5</td>\n",
       "      <td>5</td>\n",
       "      <td>3</td>\n",
       "      <td>84.0</td>\n",
       "      <td>14260</td>\n",
       "      <td>1</td>\n",
       "      <td>2</td>\n",
       "      <td>0</td>\n",
       "      <td>3</td>\n",
       "      <td>0</td>\n",
       "      <td>...</td>\n",
       "      <td>0</td>\n",
       "      <td>3</td>\n",
       "      <td>4</td>\n",
       "      <td>4</td>\n",
       "      <td>0</td>\n",
       "      <td>11</td>\n",
       "      <td>2</td>\n",
       "      <td>8</td>\n",
       "      <td>4</td>\n",
       "      <td>250000</td>\n",
       "    </tr>\n",
       "  </tbody>\n",
       "</table>\n",
       "<p>5 rows × 81 columns</p>\n",
       "</div>"
      ],
      "text/plain": [
       "   Id  MSSubClass  MSZoning  LotFrontage  LotArea  Street  Alley  LotShape  \\\n",
       "0   1           5         3         65.0     8450       1      2         3   \n",
       "1   2           0         3         80.0     9600       1      2         3   \n",
       "2   3           5         3         68.0    11250       1      2         0   \n",
       "3   4           6         3         60.0     9550       1      2         0   \n",
       "4   5           5         3         84.0    14260       1      2         0   \n",
       "\n",
       "   LandContour  Utilities  ...  PoolArea  PoolQC  Fence  MiscFeature  MiscVal  \\\n",
       "0            3          0  ...         0       3      4            4        0   \n",
       "1            3          0  ...         0       3      4            4        0   \n",
       "2            3          0  ...         0       3      4            4        0   \n",
       "3            3          0  ...         0       3      4            4        0   \n",
       "4            3          0  ...         0       3      4            4        0   \n",
       "\n",
       "   MoSold  YrSold  SaleType  SaleCondition  SalePrice  \n",
       "0       1       2         8              4     208500  \n",
       "1       4       1         8              4     181500  \n",
       "2       8       2         8              4     223500  \n",
       "3       1       0         8              0     140000  \n",
       "4      11       2         8              4     250000  \n",
       "\n",
       "[5 rows x 81 columns]"
      ]
     },
     "execution_count": 53,
     "metadata": {},
     "output_type": "execute_result"
    }
   ],
   "source": [
    "lb = LabelEncoder()\n",
    "\n",
    "\n",
    "for index, val in price.nunique().iteritems():\n",
    "    #print(index, val)\n",
    "    if val < 26:\n",
    "        price[index] = lb.fit_transform(price[index])\n",
    "        \n",
    "price.head()"
   ]
  },
  {
   "cell_type": "code",
   "execution_count": null,
   "metadata": {
    "id": "-APRH-myHdk9"
   },
   "outputs": [],
   "source": [
    "samp = price.sample(n=500, random_state=1)\n",
    "\n",
    "X = samp.drop(\"SalePrice\", axis= 1)\n",
    "y = samp[\"SalePrice\"]"
   ]
  },
  {
   "cell_type": "code",
   "execution_count": null,
   "metadata": {
    "id": "luVm0-RpHdk9",
    "outputId": "80abdcff-7eaa-4b8a-bb07-51057f3781fb"
   },
   "outputs": [
    {
     "name": "stdout",
     "output_type": "stream",
     "text": [
      "<class 'pandas.core.frame.DataFrame'>\n",
      "Int64Index: 500 entries, 258 to 220\n",
      "Data columns (total 80 columns):\n",
      " #   Column         Non-Null Count  Dtype  \n",
      "---  ------         --------------  -----  \n",
      " 0   Id             500 non-null    int64  \n",
      " 1   MSSubClass     500 non-null    int64  \n",
      " 2   MSZoning       500 non-null    int32  \n",
      " 3   LotFrontage    500 non-null    float64\n",
      " 4   LotArea        500 non-null    int64  \n",
      " 5   Street         500 non-null    int32  \n",
      " 6   Alley          500 non-null    int32  \n",
      " 7   LotShape       500 non-null    int32  \n",
      " 8   LandContour    500 non-null    int32  \n",
      " 9   Utilities      500 non-null    int32  \n",
      " 10  LotConfig      500 non-null    int32  \n",
      " 11  LandSlope      500 non-null    int32  \n",
      " 12  Neighborhood   500 non-null    int32  \n",
      " 13  Condition1     500 non-null    int32  \n",
      " 14  Condition2     500 non-null    int32  \n",
      " 15  BldgType       500 non-null    int32  \n",
      " 16  HouseStyle     500 non-null    int32  \n",
      " 17  OverallQual    500 non-null    int64  \n",
      " 18  OverallCond    500 non-null    int64  \n",
      " 19  YearBuilt      500 non-null    int64  \n",
      " 20  YearRemodAdd   500 non-null    int64  \n",
      " 21  RoofStyle      500 non-null    int32  \n",
      " 22  RoofMatl       500 non-null    int32  \n",
      " 23  Exterior1st    500 non-null    int32  \n",
      " 24  Exterior2nd    500 non-null    int32  \n",
      " 25  MasVnrType     500 non-null    int32  \n",
      " 26  MasVnrArea     500 non-null    float64\n",
      " 27  ExterQual      500 non-null    int32  \n",
      " 28  ExterCond      500 non-null    int32  \n",
      " 29  Foundation     500 non-null    int32  \n",
      " 30  BsmtQual       500 non-null    int32  \n",
      " 31  BsmtCond       500 non-null    int32  \n",
      " 32  BsmtExposure   500 non-null    int32  \n",
      " 33  BsmtFinType1   500 non-null    int32  \n",
      " 34  BsmtFinSF1     500 non-null    int64  \n",
      " 35  BsmtFinType2   500 non-null    int32  \n",
      " 36  BsmtFinSF2     500 non-null    int64  \n",
      " 37  BsmtUnfSF      500 non-null    int64  \n",
      " 38  TotalBsmtSF    500 non-null    int64  \n",
      " 39  Heating        500 non-null    int32  \n",
      " 40  HeatingQC      500 non-null    int32  \n",
      " 41  CentralAir     500 non-null    int32  \n",
      " 42  Electrical     500 non-null    int32  \n",
      " 43  1stFlrSF       500 non-null    int64  \n",
      " 44  2ndFlrSF       500 non-null    int64  \n",
      " 45  LowQualFinSF   500 non-null    int64  \n",
      " 46  GrLivArea      500 non-null    int64  \n",
      " 47  BsmtFullBath   500 non-null    int64  \n",
      " 48  BsmtHalfBath   500 non-null    int64  \n",
      " 49  FullBath       500 non-null    int64  \n",
      " 50  HalfBath       500 non-null    int64  \n",
      " 51  BedroomAbvGr   500 non-null    int64  \n",
      " 52  KitchenAbvGr   500 non-null    int64  \n",
      " 53  KitchenQual    500 non-null    int32  \n",
      " 54  TotRmsAbvGrd   500 non-null    int64  \n",
      " 55  Functional     500 non-null    int32  \n",
      " 56  Fireplaces     500 non-null    int64  \n",
      " 57  FireplaceQu    500 non-null    int32  \n",
      " 58  GarageType     500 non-null    int32  \n",
      " 59  GarageYrBlt    500 non-null    float64\n",
      " 60  GarageFinish   500 non-null    int32  \n",
      " 61  GarageCars     500 non-null    int64  \n",
      " 62  GarageArea     500 non-null    int64  \n",
      " 63  GarageQual     500 non-null    int32  \n",
      " 64  GarageCond     500 non-null    int32  \n",
      " 65  PavedDrive     500 non-null    int32  \n",
      " 66  WoodDeckSF     500 non-null    int64  \n",
      " 67  OpenPorchSF    500 non-null    int64  \n",
      " 68  EnclosedPorch  500 non-null    int64  \n",
      " 69  3SsnPorch      500 non-null    int64  \n",
      " 70  ScreenPorch    500 non-null    int64  \n",
      " 71  PoolArea       500 non-null    int64  \n",
      " 72  PoolQC         500 non-null    int32  \n",
      " 73  Fence          500 non-null    int32  \n",
      " 74  MiscFeature    500 non-null    int32  \n",
      " 75  MiscVal        500 non-null    int64  \n",
      " 76  MoSold         500 non-null    int64  \n",
      " 77  YrSold         500 non-null    int64  \n",
      " 78  SaleType       500 non-null    int32  \n",
      " 79  SaleCondition  500 non-null    int32  \n",
      "dtypes: float64(3), int32(43), int64(34)\n",
      "memory usage: 232.4 KB\n"
     ]
    }
   ],
   "source": [
    "X[\"LotFrontage\"] = X[\"LotFrontage\"].fillna( (X[\"LotFrontage\"].mean()) )\n",
    "X[\"MasVnrArea\"] = X[\"MasVnrArea\"].fillna( (X[\"MasVnrArea\"].mean()) )\n",
    "X[\"GarageYrBlt\"] = X[\"GarageYrBlt\"].fillna( (X[\"GarageYrBlt\"].mean()) )\n",
    "\n",
    "X.info()"
   ]
  },
  {
   "cell_type": "code",
   "execution_count": null,
   "metadata": {
    "id": "gTW03vZvHdk-",
    "outputId": "cb778617-98b3-469d-90e6-c81f4c457ac7"
   },
   "outputs": [
    {
     "name": "stdout",
     "output_type": "stream",
     "text": [
      "(500, 3241)\n"
     ]
    }
   ],
   "source": [
    "poly = PolynomialFeatures(2, interaction_only=True)\n",
    "X = pd.DataFrame(poly.fit_transform(X))\n",
    "print(X.shape)"
   ]
  },
  {
   "cell_type": "code",
   "execution_count": null,
   "metadata": {
    "id": "xA3FW93YHdk-"
   },
   "outputs": [],
   "source": [
    "varianzas_medias = []\n",
    "cols = range(150, 3241, 100)\n",
    "\n",
    "for n_col in cols:\n",
    "    #print(n_col)\n",
    "    X_i = X.iloc[: , :n_col]\n",
    "\n",
    "    ols = sm.OLS(y.values, X_i)\n",
    "    ols_result = ols.fit()\n",
    "    std_errors = ols_result.bse\n",
    "    sqr = np.square(std_errors)\n",
    "    av = np.average(sqr)\n",
    "    varianzas_medias.append(av)"
   ]
  },
  {
   "cell_type": "code",
   "execution_count": null,
   "metadata": {
    "id": "xXae66jSHdk-"
   },
   "outputs": [],
   "source": [
    "varianzas_medias = []\n",
    "cols = range(750, 3241, 100)\n",
    "\n",
    "for n_col in cols:\n",
    "    #print(n_col)\n",
    "    X_i = X.iloc[: , 1:n_col]\n",
    "    \n",
    "    X_train, X_test, y_train, y_test = train_test_split(X_i, y, test_size=0.2, shuffle= False)\n",
    "\n",
    "    reg = LinearRegression().fit(X_train, y_train)\n",
    "    R2 = reg.score(X_test, y_test)\n",
    "    \n",
    "    v = (1 - R2) * y_test.var()\n",
    "    \n",
    "    varianzas_medias.append(v)"
   ]
  },
  {
   "cell_type": "code",
   "execution_count": null,
   "metadata": {
    "id": "BRQpXVfvHdk-",
    "outputId": "8d447355-f917-433f-db9c-154de73c1689"
   },
   "outputs": [
    {
     "name": "stderr",
     "output_type": "stream",
     "text": [
      "No handles with labels found to put in legend.\n"
     ]
    },
    {
     "data": {
      "image/png": "[encoded data removed]",
      "text/plain": [
       "<Figure size 720x504 with 1 Axes>"
      ]
     },
     "metadata": {},
     "output_type": "display_data"
    }
   ],
   "source": [
    "plt.figure(figsize=(10,7))\n",
    "\n",
    "# Plot the data\n",
    "plt.plot(cols, varianzas_medias)\n",
    "plt.axvline(x= 500)\n",
    "\n",
    "# Add a legend\n",
    "plt.legend()\n",
    "\n",
    "plt.xlabel(\"Cantidad de atributos\")\n",
    "plt.ylabel(\"Promedio de varianzas\")\n",
    "\n",
    "# Show the plot\n",
    "plt.show()"
   ]
  },
  {
   "cell_type": "code",
   "execution_count": null,
   "metadata": {
    "id": "7CKbB_pZHdk-",
    "outputId": "53ead60d-b090-4eb7-82c6-6c0c090ca998"
   },
   "outputs": [
    {
     "data": {
      "text/plain": [
       "6181764126.212021"
      ]
     },
     "execution_count": 60,
     "metadata": {},
     "output_type": "execute_result"
    }
   ],
   "source": [
    "y_test.var()"
   ]
  },
  {
   "cell_type": "code",
   "execution_count": null,
   "metadata": {
    "id": "MBD9XNH8Hdk_",
    "outputId": "4dee41c4-9272-4bca-c870-3e72af377667"
   },
   "outputs": [
    {
     "data": {
      "text/plain": [
       "6119946484.949902"
      ]
     },
     "execution_count": 62,
     "metadata": {},
     "output_type": "execute_result"
    }
   ],
   "source": [
    "np.var(np.array(y_test))"
   ]
  },
  {
   "cell_type": "code",
   "execution_count": null,
   "metadata": {
    "id": "7hEWq4tMHdk_",
    "outputId": "33def715-03e5-41d6-e309-2d0ff5817009"
   },
   "outputs": [
    {
     "data": {
      "text/plain": [
       "6119946484.949902"
      ]
     },
     "execution_count": 67,
     "metadata": {},
     "output_type": "execute_result"
    }
   ],
   "source": [
    "np.var(list(y_test))"
   ]
  },
  {
   "cell_type": "markdown",
   "metadata": {
    "id": "RVows-giHdk_"
   },
   "source": [
    "# Kaggle"
   ]
  },
  {
   "cell_type": "markdown",
   "metadata": {
    "id": "Mro0DvciPO8t"
   },
   "source": [
    "### Parte 2. **Desafío Kaggle \n",
    "loc1= loc.drop(\"LATITUDE\", axis= 1)\n",
    "loc2= loc.drop(\"LONGITUDE\", axis= 1)\n",
    "datas = [(loc1, \"LONGITUDE\", \"UJIndoorLoc longitude\"), (loc2, \"LATITUDE\", \"UJIndoorLoc latitude\")]\n",
    "\n",
    "Una de las paradojas más bizarras e interesantes de esta pandemia ha sido la masificación del concepto nómade digital: una persona, generalmente joven, que se pasa la vida viajando y trabajando de manera remota, a veces desde lugares inusuales y paradisíacos. En palabras de la multitud de personas que durante el último año se han sumado a este estilo de vida, la razón es tan simple como envidiable: \"Si tenemos que trabajar en línea, ¿porqué no hacerlo desde un país exótico?\".  \n",
    "\n",
    "Para esta parte del taller, tendrán que constuir un modelo capaz de predecir el precio de un paquete de viajes orientado a nómades digitales a partir de una serie de detalles como el destino o itinerario, los hoteles y comidas incluídas, los vuelos involucrados, etc. \n",
    "\n",
    "Para acceder a loss detalles del desafío ingrese al siguiente link: https://www.kaggle.com/c/nomades-digitales/\n",
    "\n"
   ]
  }
 ],
 "metadata": {
  "colab": {
   "collapsed_sections": [],
   "name": "INF398Taller2_II_2021 (1).ipynb",
   "provenance": []
  },
  "kernelspec": {
   "display_name": "Python 3 (ipykernel)",
   "language": "python",
   "name": "python3"
  },
  "language_info": {
   "codemirror_mode": {
    "name": "ipython",
    "version": 3
   },
   "file_extension": ".py",
   "mimetype": "text/x-python",
   "name": "python",
   "nbconvert_exporter": "python",
   "pygments_lexer": "ipython3",
   "version": "3.9.12"
  }
 },
 "nbformat": 4,
 "nbformat_minor": 1
}
